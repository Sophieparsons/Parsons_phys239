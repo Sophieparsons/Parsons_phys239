{
 "cells": [
  {
   "cell_type": "code",
   "execution_count": 3,
   "metadata": {},
   "outputs": [],
   "source": [
    "import numpy as np\n",
    "from numpy import *\n",
    "import scipy as scipy\n",
    "from scipy.fft import fft, ifft\n",
    "import matplotlib.pyplot as plt \n",
    "import math\n",
    "import random"
   ]
  },
  {
   "cell_type": "code",
   "execution_count": 4,
   "metadata": {},
   "outputs": [],
   "source": [
    "# all units are in CGS\n",
    "a0 = 5.2918*(10**-9)\n",
    "e =  4.80320425*(10**-10)\n",
    "Z = 2\n",
    "me = 9.109*(10**-24)\n",
    "IonCharge = Z*e\n",
    "xi_ion = 0\n",
    "yi_ion = 0\n",
    "xi_e = a0*500\n",
    "yi_e = a0*500\n",
    "vi_e = 10**7 \n",
    "t_i = 0"
   ]
  },
  {
   "cell_type": "code",
   "execution_count": 52,
   "metadata": {},
   "outputs": [],
   "source": [
    "#Setting axes and timescale\n",
    "x_ion = np.linspace(500,0.1,5000)\n",
    "y_ion = np.linspace(500,0.1,5000)\n",
    "x_e = np.linspace(xi_e,0.1,5000)\n",
    "y_e = np.linspace(yi_e,0.1,5000)\n",
    "r_e = [math.sqrt(a**2 +b**2) for a,b in zip(x_e,y_e)]\n",
    "time = np.linspace(1e-22,1e-10,5000)\n"
   ]
  },
  {
   "cell_type": "code",
   "execution_count": 53,
   "metadata": {},
   "outputs": [],
   "source": [
    "def calcs(x_i, v_i, ti, deltat, e, IonCharge, me):\n",
    "        x_i = x_i + x\n",
    "        t_i = t_i + deltat\n",
    "        f = e*IonCharge/x_i**2\n",
    "        a_x = f/me\n",
    "        v = a_x*t_i\n",
    "        x = v*t_i - .5*a_x*t_i**2\n",
    "        return a_x\n",
    "        return v\n",
    "        return x\n",
    "        print(a_x)"
   ]
  },
  {
   "cell_type": "code",
   "execution_count": 54,
   "metadata": {},
   "outputs": [
    {
     "name": "stdout",
     "output_type": "stream",
     "text": [
      "5.1016105438998584e-30\n"
     ]
    }
   ],
   "source": [
    "#using Cuolomb's law F= m*a = abs(q1*q2)/r^2 in CGS\n",
    "F_ix = e*IonCharge/(xi_e**2)\n",
    "a_ix= F_ix/me\n",
    "v_2 = vi_e + a_ix*.005\n",
    "x_2 = xi_e + v_2*.005 -.5*a_ix*.005**2\n",
    "f_2 = e*IonCharge/x_2\n",
    "print(f_2)"
   ]
  },
  {
   "cell_type": "code",
   "execution_count": 55,
   "metadata": {},
   "outputs": [],
   "source": [
    "def position_x(v_i, t, e, IonCharge, me, x_i):\n",
    "    N = t.size - 1\n",
    "    dt = t[1] - t[0]  \n",
    "    u = np.zeros(N+1)\n",
    "    v = np.zeros(N+1)\n",
    "    f = np.zeros(N+1)\n",
    "    a = np.zeros(N+1)\n",
    "    u[0] = x_i\n",
    "    f[0] = e*IonCharge/(u[0]**2)\n",
    "    a[0] = f[0]/me\n",
    "    v[0] = v_i\n",
    "    v[1] = v[0] + a[0]*t[1]\n",
    "    u[1] = u[0] + v[1]*t[1] - .5*a[1]*t[1]**2\n",
    "    f[1] = e*IonCharge/(u[1]**2)\n",
    "    a[1] = f[1]/me\n",
    "    \n",
    "    for n in range(1,N):\n",
    "        f[n+1] = e*IonCharge/(u[n]**2)\n",
    "        a[n+1] = f[n+1]/me\n",
    "        v[n+1] = v[n] +a[n+1]*t[n+1]\n",
    "        u[n+1] = u[n] + v[n+1]*t[n+1] - .5*a[n+1]*t[n+1]**2\n",
    "        \n",
    "    return u\n",
    "    #return f\n",
    "    #return a\n",
    "    #return v\n",
    "    print (u)\n",
    "    #print(f)\n",
    "    #print(a)\n",
    "    #print(v)\n"
   ]
  },
  {
   "cell_type": "code",
   "execution_count": 56,
   "metadata": {},
   "outputs": [],
   "source": [
    "def force_x(v_i, t, e, IonCharge, me, x_i):\n",
    "    N = t.size - 1\n",
    "    dt = t[1] - t[0]  \n",
    "    u = np.zeros(N+1)\n",
    "    v = np.zeros(N+1)\n",
    "    f = np.zeros(N+1)\n",
    "    a = np.zeros(N+1)\n",
    "    u[0] = x_i\n",
    "    f[0] = e*IonCharge/(u[0]**2)\n",
    "    a[0] = f[0]/me\n",
    "    v[0] = v_i\n",
    "    v[1] = v[0] + a[1]*t[1]\n",
    "    u[1] = u[0] + v[1]*t[1] - .5*a[1]*t[1]**2\n",
    "    f[1] = e*IonCharge/(u[1]**2)\n",
    "    a[1] = f[1]/me\n",
    "    \n",
    "    for n in range(1,N):\n",
    "        f[n+1] = e*IonCharge/(u[n]**2)\n",
    "        a[n+1] = f[n+1]/me\n",
    "        v[n+1] = v[n] +a[n+1]*t[n+1]\n",
    "        u[n+1] = u[n] + v[n+1]*t[n+1] - .5*a[n+1]*t[n+1]**2\n",
    "        \n",
    "    #return u\n",
    "    return f\n",
    "    #return a\n",
    "    #return v\n",
    "    #print (u)\n",
    "    print(f)\n",
    "    #print(a)\n",
    "    #print(v)\n",
    "def acc_x(v_i, t, e, IonCharge, me, x_i):\n",
    "    N = t.size - 1\n",
    "    dt = t[1] - t[0]  \n",
    "    u = np.zeros(N+1)\n",
    "    v = np.zeros(N+1)\n",
    "    f = np.zeros(N+1)\n",
    "    a = np.zeros(N+1)\n",
    "    u[0] = x_i\n",
    "    f[0] = e*IonCharge/(u[0]**2)\n",
    "    a[0] = f[0]/me\n",
    "    v[0] = v_i\n",
    "    v[1] = v[0] + a[1]*t[1]\n",
    "    u[1] = u[0] + v[1]*t[1] - .5*a[1]*t[1]**2\n",
    "    f[1] = e*IonCharge/(u[1]**2)\n",
    "    a[1] = f[1]/me\n",
    "    \n",
    "    for n in range(1,N):\n",
    "        f[n+1] = e*IonCharge/(u[n]**2)\n",
    "        a[n+1] = f[n+1]/me\n",
    "        v[n+1] = v[n] +a[n+1]*t[n+1]\n",
    "        u[n+1] = u[n] + v[n+1]*t[n+1] - .5*a[n+1]*t[n+1]**2\n",
    "        \n",
    "    #return u\n",
    "    #return f\n",
    "    return a\n",
    "    #return v\n",
    "    #print (u)\n",
    "    #print(f)\n",
    "    print(a)\n",
    "    #print(v)\n",
    "def vel_x(v_i, t, e, IonCharge, me, x_i):\n",
    "    N = t.size - 1\n",
    "    dt = t[1] - t[0]  \n",
    "    u = np.zeros(N+1)\n",
    "    v = np.zeros(N+1)\n",
    "    f = np.zeros(N+1)\n",
    "    a = np.zeros(N+1)\n",
    "    u[0] = x_i\n",
    "    f[0] = e*IonCharge/(u[0]**2)\n",
    "    a[0] = f[0]/me\n",
    "    v[0] = v_i\n",
    "    v[1] = v[0] + a[1]*t[1]\n",
    "    u[1] = u[0] + v[1]*t[1] - .5*a[1]*t[1]**2\n",
    "    f[1] = e*IonCharge/(u[1]**2)\n",
    "    a[1] = f[1]/me\n",
    "    \n",
    "    for n in range(1,N):\n",
    "        f[n+1] = e*IonCharge/(u[n]**2)\n",
    "        a[n+1] = f[n+1]/me\n",
    "        v[n+1] = v[n] +a[n+1]*t[n+1]\n",
    "        u[n+1] = u[n] + v[n+1]*t[n+1] - .5*a[n+1]*t[n+1]**2\n",
    "        \n",
    "    #return u\n",
    "    #return f\n",
    "    #return a\n",
    "    return v\n",
    "    #print (u)\n",
    "    #print(f)\n",
    "    #print(a)\n",
    "    print(v)"
   ]
  },
  {
   "cell_type": "code",
   "execution_count": 57,
   "metadata": {},
   "outputs": [
    {
     "name": "stdout",
     "output_type": "stream",
     "text": [
      "[2.64590000e-06 2.84594290e-06 3.24603372e-06 ... 2.49856121e+00\n",
      " 2.49956123e+00 2.50056146e+00]\n",
      "[6.59090805e-08 5.69692659e-08 5.69692659e-08 ... 7.39728462e-20\n",
      " 7.39136561e-20 7.38545253e-20]\n",
      "[7.23560001e+15 6.25417344e+15 6.25417344e+15 ... 8.12085258e+03\n",
      " 8.11435461e+03 8.10786313e+03]\n",
      "[10000000.         10000000.         10000250.21698169 ...\n",
      " 10002090.56326781 10002090.56326862 10002090.56326943]\n"
     ]
    }
   ],
   "source": [
    "x = position_x(vi_e, time, e, IonCharge, me, xi_e)\n",
    "print(x)\n",
    "f = force_x(vi_e, time, e, IonCharge, me, xi_e)\n",
    "print(f)\n",
    "a = acc_x(vi_e, time, e, IonCharge, me, xi_e)\n",
    "print(a)\n",
    "v = vel_x(vi_e, time, e, IonCharge, me, xi_e)\n",
    "print(v)"
   ]
  },
  {
   "cell_type": "code",
   "execution_count": 58,
   "metadata": {},
   "outputs": [
    {
     "data": {
      "image/png": "[encoded data removed]",
      "text/plain": [
       "<Figure size 432x288 with 1 Axes>"
      ]
     },
     "metadata": {
      "needs_background": "light"
     },
     "output_type": "display_data"
    }
   ],
   "source": [
    "plt.plot(time,x)\n",
    "plt.xlabel(\"time\")\n",
    "plt.ylabel(\"x position\")\n",
    "plt.title(\"X Postion verus time\")\n",
    "plt.show()"
   ]
  },
  {
   "cell_type": "code",
   "execution_count": 59,
   "metadata": {},
   "outputs": [
    {
     "data": {
      "image/png": "[encoded data removed]",
      "text/plain": [
       "<Figure size 432x288 with 1 Axes>"
      ]
     },
     "metadata": {
      "needs_background": "light"
     },
     "output_type": "display_data"
    }
   ],
   "source": [
    "plt.plot(time,a)\n",
    "plt.xlabel(\"time\")\n",
    "plt.ylabel(\"x acceleration\")\n",
    "plt.title(\"X acceleration verus time\")\n",
    "plt.show()"
   ]
  },
  {
   "cell_type": "code",
   "execution_count": 60,
   "metadata": {},
   "outputs": [
    {
     "data": {
      "image/png": "[encoded data removed]",
      "text/plain": [
       "<Figure size 432x288 with 1 Axes>"
      ]
     },
     "metadata": {
      "needs_background": "light"
     },
     "output_type": "display_data"
    }
   ],
   "source": [
    "plt.plot(time,v)\n",
    "plt.xlabel(\"time\")\n",
    "plt.ylabel(\"x velocity\")\n",
    "plt.title(\"X velocity verus time\")\n",
    "plt.show()"
   ]
  },
  {
   "cell_type": "code",
   "execution_count": 61,
   "metadata": {},
   "outputs": [],
   "source": [
    "def position_y(v_i, t, e, IonCharge, me, y_i):\n",
    "    N = t.size - 1\n",
    "    dt = t[1] - t[0]  \n",
    "    u = np.zeros(N+1)\n",
    "    v = np.zeros(N+1)\n",
    "    f = np.zeros(N+1)\n",
    "    a = np.zeros(N+1)\n",
    "    u[0] = y_i\n",
    "    f[0] = e*IonCharge/(u[0]**2)\n",
    "    a[0] = f[0]/me\n",
    "    v[0] = v_i\n",
    "    v[1] = v[0] + a[0]*t[1]\n",
    "    u[1] = u[0] + v[1]*t[1] - .5*a[1]*t[1]**2\n",
    "    f[1] = e*IonCharge/(u[1]**2)\n",
    "    a[1] = f[1]/me\n",
    "    \n",
    "    for n in range(1,N):\n",
    "        f[n+1] = e*IonCharge/(u[n]**2)\n",
    "        a[n+1] = f[n+1]/me\n",
    "        v[n+1] = v[n] +a[n+1]*t[n+1]\n",
    "        u[n+1] = u[n] + v[n+1]*t[n+1] - .5*a[n+1]*t[n+1]**2\n",
    "        \n",
    "    return u\n",
    "    #return f\n",
    "    #return a\n",
    "    #return v\n",
    "    print (u)\n",
    "    #print(f)\n",
    "    #print(a)\n",
    "    #print(v)\n",
    "def force_y(v_i, t, e, IonCharge, me, y_i):\n",
    "    N = t.size - 1\n",
    "    dt = t[1] - t[0]  \n",
    "    u = np.zeros(N+1)\n",
    "    v = np.zeros(N+1)\n",
    "    f = np.zeros(N+1)\n",
    "    a = np.zeros(N+1)\n",
    "    u[0] = y_i\n",
    "    f[0] = e*IonCharge/(u[0]**2)\n",
    "    a[0] = f[0]/me\n",
    "    v[0] = v_i\n",
    "    v[1] = v[0] + a[1]*t[1]\n",
    "    u[1] = u[0] + v[1]*t[1] - .5*a[1]*t[1]**2\n",
    "    f[1] = e*IonCharge/(u[1]**2)\n",
    "    a[1] = f[1]/me\n",
    "    \n",
    "    for n in range(1,N):\n",
    "        f[n+1] = e*IonCharge/(u[n]**2)\n",
    "        a[n+1] = f[n+1]/me\n",
    "        v[n+1] = v[n] +a[n+1]*t[n+1]\n",
    "        u[n+1] = u[n] + v[n+1]*t[n+1] - .5*a[n+1]*t[n+1]**2\n",
    "        \n",
    "    #return u\n",
    "    return f\n",
    "    #return a\n",
    "    #return v\n",
    "    #print (u)\n",
    "    print(f)\n",
    "    #print(a)\n",
    "    #print(v)\n",
    "def acc_y(v_i, t, e, IonCharge, me, y_i):\n",
    "    N = t.size - 1\n",
    "    dt = t[1] - t[0]  \n",
    "    u = np.zeros(N+1)\n",
    "    v = np.zeros(N+1)\n",
    "    f = np.zeros(N+1)\n",
    "    a = np.zeros(N+1)\n",
    "    u[0] = y_i\n",
    "    f[0] = e*IonCharge/(u[0]**2)\n",
    "    a[0] = f[0]/me\n",
    "    v[0] = v_i\n",
    "    v[1] = v[0] + a[1]*t[1]\n",
    "    u[1] = u[0] + v[1]*t[1] - .5*a[1]*t[1]**2\n",
    "    f[1] = e*IonCharge/(u[1]**2)\n",
    "    a[1] = f[1]/me\n",
    "    \n",
    "    for n in range(1,N):\n",
    "        f[n+1] = e*IonCharge/(u[n]**2)\n",
    "        a[n+1] = f[n+1]/me\n",
    "        v[n+1] = v[n] +a[n+1]*t[n+1]\n",
    "        u[n+1] = u[n] + v[n+1]*t[n+1] - .5*a[n+1]*t[n+1]**2\n",
    "        \n",
    "    #return u\n",
    "    #return f\n",
    "    return a\n",
    "    #return v\n",
    "    #print (u)\n",
    "    #print(f)\n",
    "    print(a)\n",
    "    #print(v)\n",
    "def vel_y(v_i, t, e, IonCharge, me, y_i):\n",
    "    N = t.size - 1\n",
    "    dt = t[1] - t[0]  \n",
    "    u = np.zeros(N+1)\n",
    "    v = np.zeros(N+1)\n",
    "    f = np.zeros(N+1)\n",
    "    a = np.zeros(N+1)\n",
    "    u[0] = y_i\n",
    "    f[0] = e*IonCharge/(u[0]**2)\n",
    "    a[0] = f[0]/me\n",
    "    v[0] = v_i\n",
    "    v[1] = v[0] + a[1]*t[1]\n",
    "    u[1] = u[0] + v[1]*t[1] - .5*a[1]*t[1]**2\n",
    "    f[1] = e*IonCharge/(u[1]**2)\n",
    "    a[1] = f[1]/me\n",
    "    \n",
    "    for n in range(1,N):\n",
    "        f[n+1] = e*IonCharge/(u[n]**2)\n",
    "        a[n+1] = f[n+1]/me\n",
    "        v[n+1] = v[n] +a[n+1]*t[n+1]\n",
    "        u[n+1] = u[n] + v[n+1]*t[n+1] - .5*a[n+1]*t[n+1]**2\n",
    "        \n",
    "    #return u\n",
    "    #return f\n",
    "    #return a\n",
    "    return v\n",
    "    #print (u)\n",
    "    #print(f)\n",
    "    #print(a)\n",
    "    print(v)\n"
   ]
  },
  {
   "cell_type": "code",
   "execution_count": 62,
   "metadata": {},
   "outputs": [
    {
     "name": "stdout",
     "output_type": "stream",
     "text": [
      "[2.64590000e-06 2.64590290e-06 2.64591448e-06 ... 4.94037143e-02\n",
      " 4.94234925e-02 4.94432746e-02]\n",
      "[6.59090805e-08 6.59090805e-08 6.59090805e-08 ... 1.89198103e-16\n",
      " 1.89046677e-16 1.88895403e-16]\n",
      "[7.23560001e+15 7.23560001e+15 7.23560001e+15 ... 2.07704581e+07\n",
      " 2.07538343e+07 2.07372272e+07]\n",
      "[     0.              0.            289.48189749 ... 197822.21944854\n",
      " 197822.22152351 197822.22359724]\n"
     ]
    }
   ],
   "source": [
    "y = position_y(0, time, e, IonCharge, me, yi_e)\n",
    "print(y)\n",
    "f_y = force_y(0, time, e, IonCharge, me, yi_e)\n",
    "print(f_y)\n",
    "a_y = acc_y(0, time, e, IonCharge, me, yi_e)\n",
    "print(a_y)\n",
    "v_y = vel_y(0, time, e, IonCharge, me, yi_e)\n",
    "print(v_y)"
   ]
  },
  {
   "cell_type": "code",
   "execution_count": 63,
   "metadata": {},
   "outputs": [
    {
     "data": {
      "image/png": "[encoded data removed]",
      "text/plain": [
       "<Figure size 432x288 with 1 Axes>"
      ]
     },
     "metadata": {
      "needs_background": "light"
     },
     "output_type": "display_data"
    }
   ],
   "source": [
    "plt.plot(time,y)\n",
    "plt.xlabel(\"time\")\n",
    "plt.ylabel(\"y position\")\n",
    "plt.title(\"Y Position verus time\")\n",
    "plt.show()"
   ]
  },
  {
   "cell_type": "code",
   "execution_count": 64,
   "metadata": {},
   "outputs": [
    {
     "data": {
      "image/png": "[encoded data removed]",
      "text/plain": [
       "<Figure size 432x288 with 1 Axes>"
      ]
     },
     "metadata": {
      "needs_background": "light"
     },
     "output_type": "display_data"
    }
   ],
   "source": [
    "#debug\n",
    "plt.plot(time, f_y)\n",
    "plt.xlabel(\"time\")\n",
    "plt.ylabel(\"y force\")\n",
    "plt.title(\"Y Force verus time\")\n",
    "plt.show()"
   ]
  },
  {
   "cell_type": "code",
   "execution_count": 65,
   "metadata": {},
   "outputs": [
    {
     "data": {
      "image/png": "[encoded data removed]",
      "text/plain": [
       "<Figure size 432x288 with 1 Axes>"
      ]
     },
     "metadata": {
      "needs_background": "light"
     },
     "output_type": "display_data"
    }
   ],
   "source": [
    "plt.plot(time, v_y)\n",
    "plt.xlabel(\"time\")\n",
    "plt.ylabel(\"y Velocity\")\n",
    "plt.title(\"Y Velocity verus time\")\n",
    "plt.show()"
   ]
  },
  {
   "cell_type": "code",
   "execution_count": 66,
   "metadata": {},
   "outputs": [
    {
     "data": {
      "image/png": "[encoded data removed]",
      "text/plain": [
       "<Figure size 432x288 with 1 Axes>"
      ]
     },
     "metadata": {
      "needs_background": "light"
     },
     "output_type": "display_data"
    }
   ],
   "source": [
    "plt.plot(time,a_y)\n",
    "plt.xlabel(\"time\")\n",
    "plt.ylabel(\"y acceleration\")\n",
    "plt.title(\"Y acceleration verus time\")\n",
    "plt.show()"
   ]
  },
  {
   "cell_type": "code",
   "execution_count": 67,
   "metadata": {},
   "outputs": [],
   "source": [
    "def acc_r(v_ix, v_iy, t, e, IonCharge, me, y_i, x_i):\n",
    "    N = t.size - 1\n",
    "    dt = t[1] - t[0]  \n",
    "    u = np.zeros(N+1)\n",
    "    v = np.zeros(N+1)\n",
    "    f = np.zeros(N+1)\n",
    "    a = np.zeros(N+1)\n",
    "    u[0] = math.sqrt(x_i**2 + y_i**2)\n",
    "    f[0] = e*IonCharge/(u[0]**2)\n",
    "    a[0] = f[0]/me\n",
    "    v[0] = math.sqrt(v_ix**2+v_iy**2)\n",
    "    v[1] = v[0] + a[1]*t[1]\n",
    "    u[1] = u[0] + v[1]*t[1] - .5*a[1]*t[1]**2\n",
    "    f[1] = e*IonCharge/(u[1]**2)\n",
    "    a[1] = f[1]/me\n",
    "    \n",
    "    for n in range(1,N):\n",
    "        f[n+1] = e*IonCharge/(u[n]**2)\n",
    "        a[n+1] = f[n+1]/me\n",
    "        v[n+1] = v[n] +a[n+1]*t[n+1]\n",
    "        u[n+1] = u[n] + v[n+1]*t[n+1] - .5*a[n+1]*t[n+1]**2\n",
    "        \n",
    "    #return u\n",
    "    #return f\n",
    "    return a\n",
    "    #return v\n",
    "    #print (u)\n",
    "    #print(f)\n",
    "    print(a)\n",
    "    #print(v)"
   ]
  },
  {
   "cell_type": "code",
   "execution_count": 68,
   "metadata": {},
   "outputs": [],
   "source": [
    "radial_acc = acc_r(vi_e, 0, time, e, IonCharge, me, yi_e, xi_e)"
   ]
  },
  {
   "cell_type": "code",
   "execution_count": 69,
   "metadata": {},
   "outputs": [
    {
     "data": {
      "image/png": "[encoded data removed]",
      "text/plain": [
       "<Figure size 432x288 with 1 Axes>"
      ]
     },
     "metadata": {
      "needs_background": "light"
     },
     "output_type": "display_data"
    }
   ],
   "source": [
    "plt.plot(time,radial_acc)\n",
    "plt.xlabel(\"time\")\n",
    "plt.ylabel(\"r acceleration\")\n",
    "plt.title(\"Y acceleration verus time\")\n",
    "plt.show()"
   ]
  },
  {
   "cell_type": "code",
   "execution_count": 70,
   "metadata": {},
   "outputs": [],
   "source": [
    "fourier = fft(radial_acc)"
   ]
  },
  {
   "cell_type": "code",
   "execution_count": 96,
   "metadata": {},
   "outputs": [
    {
     "name": "stderr",
     "output_type": "stream",
     "text": [
      "/opt/anaconda3/lib/python3.8/site-packages/numpy/core/_asarray.py:85: ComplexWarning: Casting complex values to real discards the imaginary part\n",
      "  return array(a, dtype, copy=False, order=order)\n"
     ]
    },
    {
     "data": {
      "image/png": "[encoded data removed]",
      "text/plain": [
       "<Figure size 432x288 with 1 Axes>"
      ]
     },
     "metadata": {
      "needs_background": "light"
     },
     "output_type": "display_data"
    }
   ],
   "source": [
    "plt.plot(freq, fourier)\n",
    "plt.ylabel(\"Power\")\n",
    "plt.xlabel(\"Frequency\")\n",
    "plt.title(\"Frequency verus Power Spectrum\")\n",
    "plt.show()"
   ]
  },
  {
   "cell_type": "code",
   "execution_count": 81,
   "metadata": {},
   "outputs": [],
   "source": [
    "radial_acc1 = acc_r(vi_e, vi_e, time, e, IonCharge, me, yi_e, xi_e)"
   ]
  },
  {
   "cell_type": "code",
   "execution_count": 82,
   "metadata": {},
   "outputs": [],
   "source": [
    "freq = [1/a for a in time]"
   ]
  },
  {
   "cell_type": "code",
   "execution_count": 83,
   "metadata": {},
   "outputs": [],
   "source": [
    "fourier1 = fft(radial_acc1)"
   ]
  },
  {
   "cell_type": "code",
   "execution_count": 95,
   "metadata": {},
   "outputs": [
    {
     "name": "stderr",
     "output_type": "stream",
     "text": [
      "/opt/anaconda3/lib/python3.8/site-packages/numpy/core/_asarray.py:85: ComplexWarning: Casting complex values to real discards the imaginary part\n",
      "  return array(a, dtype, copy=False, order=order)\n"
     ]
    },
    {
     "data": {
      "image/png": "[encoded data removed]",
      "text/plain": [
       "<Figure size 432x288 with 1 Axes>"
      ]
     },
     "metadata": {
      "needs_background": "light"
     },
     "output_type": "display_data"
    }
   ],
   "source": [
    "plt.plot(freq, fourier1)\n",
    "plt.ylabel(\"Power\")\n",
    "plt.xlabel(\"Frequency\")\n",
    "plt.title(\"Frequency verus Power Spectrum, Vi_y = 10^7, b = 5*a0\")\n",
    "plt.show()"
   ]
  },
  {
   "cell_type": "code",
   "execution_count": 93,
   "metadata": {},
   "outputs": [
    {
     "name": "stderr",
     "output_type": "stream",
     "text": [
      "/opt/anaconda3/lib/python3.8/site-packages/numpy/core/_asarray.py:85: ComplexWarning: Casting complex values to real discards the imaginary part\n",
      "  return array(a, dtype, copy=False, order=order)\n"
     ]
    },
    {
     "data": {
      "image/png": "[encoded data removed]",
      "text/plain": [
       "<Figure size 432x288 with 1 Axes>"
      ]
     },
     "metadata": {
      "needs_background": "light"
     },
     "output_type": "display_data"
    }
   ],
   "source": [
    "radial_acc2 = acc_r(vi_e, 0, time, e, IonCharge, me, 3*yi_e, xi_e)\n",
    "fourier2 = fft(radial_acc2)\n",
    "plt.plot(freq, fourier2)\n",
    "plt.ylabel(\"Power\")\n",
    "plt.xlabel(\"Frequency\")\n",
    "plt.title(\"Frequency verus Power Spectrum, Vi_y = 0, b = 15*a0\")\n",
    "plt.show()"
   ]
  },
  {
   "cell_type": "code",
   "execution_count": 94,
   "metadata": {},
   "outputs": [
    {
     "name": "stderr",
     "output_type": "stream",
     "text": [
      "/opt/anaconda3/lib/python3.8/site-packages/numpy/core/_asarray.py:85: ComplexWarning: Casting complex values to real discards the imaginary part\n",
      "  return array(a, dtype, copy=False, order=order)\n"
     ]
    },
    {
     "data": {
      "image/png": "[encoded data removed]",
      "text/plain": [
       "<Figure size 432x288 with 1 Axes>"
      ]
     },
     "metadata": {
      "needs_background": "light"
     },
     "output_type": "display_data"
    }
   ],
   "source": [
    "radial_acc3 = acc_r(vi_e, -vi_e, time, e, IonCharge, me, yi_e, xi_e)\n",
    "fourier3 = fft(radial_acc3)\n",
    "plt.plot(freq, fourier3)\n",
    "plt.ylabel(\"Power\")\n",
    "plt.xlabel(\"Frequency\")\n",
    "plt.title(\"Frequency verus Power Spectrum, Vi_y = -10**7, b = 5*a0\")\n",
    "plt.show()"
   ]
  },
  {
   "cell_type": "code",
   "execution_count": null,
   "metadata": {},
   "outputs": [],
   "source": []
  }
 ],
 "metadata": {
  "kernelspec": {
   "display_name": "Python 3",
   "language": "python",
   "name": "python3"
  },
  "language_info": {
   "codemirror_mode": {
    "name": "ipython",
    "version": 3
   },
   "file_extension": ".py",
   "mimetype": "text/x-python",
   "name": "python",
   "nbconvert_exporter": "python",
   "pygments_lexer": "ipython3",
   "version": "3.8.3"
  }
 },
 "nbformat": 4,
 "nbformat_minor": 4
}
